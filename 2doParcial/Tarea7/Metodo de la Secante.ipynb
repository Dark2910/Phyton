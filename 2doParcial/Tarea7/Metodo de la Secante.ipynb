{
 "cells": [
  {
   "cell_type": "markdown",
   "metadata": {},
   "source": [
    "Metodo de la Secante"
   ]
  },
  {
   "cell_type": "code",
   "execution_count": 1,
   "metadata": {},
   "outputs": [
    {
     "name": "stdout",
     "output_type": "stream",
     "text": [
      "Xi-1: 0\n",
      "Xi: 1\n",
      "Criterio de paro: \n",
      "x= 0.0\n",
      "x= 1.0\n",
      "x= 0.6126998367802821\n",
      "x= 0.5638383891610742\n",
      "x= 0.5671703584197446\n",
      "x= 0.5671433066049633\n",
      "x= 0.5671432904097046\n",
      "Error: 1\n",
      "Error: 1.0\n",
      "Error: 0.38730016321971794\n",
      "Error: 0.048861447619207854\n",
      "Error: 0.0033319692586704086\n",
      "Error: 2.7051814781353656e-05\n"
     ]
    },
    {
     "data": {
      "image/png": "[encoded data removed]",
      "text/plain": [
       "<Figure size 432x288 with 1 Axes>"
      ]
     },
     "metadata": {
      "needs_background": "light"
     },
     "output_type": "display_data"
    },
    {
     "data": {
      "image/png": "[encoded data removed]",
      "text/plain": [
       "<Figure size 432x288 with 1 Axes>"
      ]
     },
     "metadata": {
      "needs_background": "light"
     },
     "output_type": "display_data"
    }
   ],
   "source": [
    "#   Metodo de la Secante\n",
    "import matplotlib.pyplot as plt\n",
    "from math import e\n",
    "import numpy\n",
    "\n",
    "xn_reg = []\n",
    "error_reg = []\n",
    "error_reg.append(1)\n",
    "\n",
    "def f(x):\n",
    "    #   e**(-x) - x\n",
    "    return e**(-x) - x\n",
    "\n",
    "def solucion(xh, xi):   # xi-1, xi\n",
    "    return xi - (f(xi)  * (xh - xi)/ (f(xh) - f(xi)))\n",
    "\n",
    "def calcula():\n",
    "    xh = input(\"Xi-1: \")    #xi-1 = 0\n",
    "    xi = input(\"Xi: \")      #xi = 1\n",
    "    xn_reg.append(float(xh))\n",
    "    xn_reg.append(float(xi))\n",
    "    contador = 0\n",
    "\n",
    "    parada = input(\"Criterio de paro: \")\n",
    "\n",
    "    if(parada == \"\"):\n",
    "        parada = 0.0001\n",
    "\n",
    "    while(contador <= 500):\n",
    "        if(float(error_reg[contador]) <= float(parada)):\n",
    "            break\n",
    "        xn_reg.append(solucion(xn_reg[-2], xn_reg[-1]))\n",
    "        error_reg.append(abs(xn_reg[contador+1] - xn_reg[contador]))\n",
    "        '''\n",
    "        print(\"xi-1 =\", xn_reg[-2],\"  ->  f(xi-1) =\", f(xn_reg[-2]), \"\\nxi =\",xn_reg[-1] , \"  ->  f(xi) =\", f(xn_reg[-1]), \"\\nSolucion =\", solucion(xn_reg[-2], xn_reg[-1]))\n",
    "        '''\n",
    "        contador += 1\n",
    "\n",
    "    muestra()\n",
    "\n",
    "def muestra():\n",
    "\n",
    "    for registro in xn_reg:\n",
    "        print(\"x=\", registro)\n",
    "\n",
    "    for registro in error_reg:\n",
    "        print(\"Error:\", registro)\n",
    "\n",
    "    plt.plot(xn_reg, label = \"raiz\")\n",
    "    plt.show()\n",
    "\n",
    "    plt.plot(error_reg, label = \"error\")\n",
    "    plt.show()\n",
    "\n",
    "calcula()\n"
   ]
  },
  {
   "cell_type": "code",
   "execution_count": null,
   "metadata": {},
   "outputs": [],
   "source": []
  }
 ],
 "metadata": {
  "kernelspec": {
   "display_name": "Python 3",
   "language": "python",
   "name": "python3"
  },
  "language_info": {
   "codemirror_mode": {
    "name": "ipython",
    "version": 3
   },
   "file_extension": ".py",
   "mimetype": "text/x-python",
   "name": "python",
   "nbconvert_exporter": "python",
   "pygments_lexer": "ipython3",
   "version": "3.8.2"
  }
 },
 "nbformat": 4,
 "nbformat_minor": 4
}
