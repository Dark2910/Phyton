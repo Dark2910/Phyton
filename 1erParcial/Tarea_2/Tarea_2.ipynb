{
 "cells": [
  {
   "cell_type": "markdown",
   "metadata": {},
   "source": [
    "Escribir un programa para comparar y obtener la diferencia de dos listas."
   ]
  },
  {
   "cell_type": "code",
   "execution_count": 5,
   "metadata": {},
   "outputs": [
    {
     "name": "stdout",
     "output_type": "stream",
     "text": [
      "Listas de autos\n",
      "Bugatti, Chevrolet, Ford, Lamborghini, Maserati, Mazda, Pagani, Volkswagen, koenigsegg, \r\n",
      "Aston Martin, BMW, Lamborghini, Maserati, Mercedes Benz, Pagani, Porsche, Rolls Royce, koenigsegg, \n",
      "\n",
      "Autos repetidos:\n",
      "Lamborghini, Maserati, Pagani, koenigsegg, \n",
      "\n",
      "Nuevas listas:\n",
      "Bugatti, Chevrolet, Ford, Mazda, Volkswagen, \r\n",
      "Aston Martin, BMW, Mercedes Benz, Porsche, Rolls Royce, \n",
      "\n"
     ]
    }
   ],
   "source": [
    "def mostrar():\n",
    "    for list in lista1:\n",
    "        print(list,end=\", \")\n",
    "    print(\"\\r\")\n",
    "    for list in lista2:\n",
    "        print(list,end=\", \")\n",
    "    print(\"\\n\")\n",
    "\n",
    "def repetidos():\n",
    "    for list in lista1:\n",
    "        if(list in lista2):\n",
    "            print(list,end=\", \")\n",
    "            eli.append(list)\n",
    "    print(\"\\n\")\n",
    "\n",
    "def elimina():\n",
    "    for list in eli:\n",
    "        lista1.remove(list)\n",
    "        lista2.remove(list)\n",
    "\n",
    "\"\"\"Listas datos a comparar\"\"\"\n",
    "lista1=[\"Ford\",\"Volkswagen\",\"Maserati\",\"Chevrolet\",\"Mazda\",\"Pagani\",\"Lamborghini\",\"Bugatti\",\"koenigsegg\"]\n",
    "lista2=[\"BMW\",\"Rolls Royce\",\"Mercedes Benz\",\"koenigsegg\",\"Maserati\",\"Aston Martin\",\"Porsche\",\"Pagani\",\"Lamborghini\"]\n",
    "\n",
    "\"\"\"Lista datos repetidos\"\"\"\n",
    "eli=[]\n",
    "\n",
    "\"\"\"Ordenamos de manera alfabetica\"\"\"\n",
    "lista1.sort()\n",
    "lista2.sort()\n",
    "\n",
    "\"\"\"Mostramos los datos almacenados en cada lista\"\"\"\n",
    "print(\"Listas de autos\")\n",
    "mostrar()\n",
    "\n",
    "\"\"\"Mostramos datos repetidos\"\"\"\n",
    "print(\"Autos repetidos:\")\n",
    "repetidos()\n",
    "\n",
    "\"\"\"Eliminamos datos repetidos\"\"\"\n",
    "elimina()\n",
    "\n",
    "\"\"\"Mostramos nuevas listas\"\"\"\n",
    "print(\"Nuevas listas:\")\n",
    "mostrar()"
   ]
  },
  {
   "cell_type": "markdown",
   "metadata": {},
   "source": [
    "Escribir un programa que lea una lista de 10 elementos y que indique el segundo número menor de la lista."
   ]
  },
  {
   "cell_type": "code",
   "execution_count": 6,
   "metadata": {},
   "outputs": [
    {
     "name": "stdout",
     "output_type": "stream",
     "text": [
      "Escribe diez numeros enteros:\n",
      "-5\n",
      "-5\n",
      "-10\n",
      "-8\n",
      "-16\n",
      "-7\n",
      "-3\n",
      "-6\n",
      "-5\n",
      "-8\n",
      "3, 5, 6, 7, 8, 10, 16, \n",
      "\n",
      "Segundo número menor de la lista:  5\n"
     ]
    }
   ],
   "source": [
    "def guarda():\n",
    "    for num in range(10):\n",
    "        lista.append(int(input(\"-\")))\n",
    "\n",
    "\"\"\"Lista de numeros almacenados\"\"\"\n",
    "lista=[]\n",
    "\"\"\"Ingresamos los datos solicitados\"\"\"\n",
    "print(\"Escribe diez numeros enteros:\")\n",
    "guarda()\n",
    "\"\"\"Eliminamos los datos repetidos en caso de haber\"\"\"\n",
    "\"\"\"En un conjunto no pueden existir datos repetidos\"\"\"\n",
    "conjunto = set(lista)\n",
    "\"\"\"Sobrescribimos la lista\"\"\"\n",
    "lista = list(conjunto)\n",
    "\"\"\"La ordenamos de menor a mayor\"\"\"\n",
    "lista.sort()\n",
    "\"\"\"Mostramos nueva lista\"\"\"\n",
    "for num in lista:\n",
    "    print(num,end=\", \")\n",
    "print(\"\\n\")\n",
    "\"\"\"Segundo número menor de la lista\"\"\"\n",
    "print(\"Segundo número menor de la lista: \",lista[1])"
   ]
  },
  {
   "cell_type": "markdown",
   "metadata": {},
   "source": [
    "Escribir un programa que cuente la frecuencia de los elementos de una lista."
   ]
  },
  {
   "cell_type": "code",
   "execution_count": 7,
   "metadata": {},
   "outputs": [
    {
     "name": "stdout",
     "output_type": "stream",
     "text": [
      "¿Cuatos datos desea anotar?\n",
      "7\n",
      "-12\n",
      "-12\n",
      "-juan\n",
      "-juan\n",
      "--\n",
      "--\n",
      "--\n",
      "12 esta almacenado 2 veces\n",
      "juan esta almacenado 2 veces\n",
      "- esta almacenado 3 veces\n"
     ]
    }
   ],
   "source": [
    "lista = []\n",
    "j = \"\"\n",
    "l = int(input(\"¿Cuatos datos desea anotar?\\n\"))\n",
    "\n",
    "def guarda():\n",
    "    for num in range(l):\n",
    "        lista.append((input(\"-\")))\n",
    "guarda()\n",
    "\n",
    "def cuenta(i):\n",
    "    contador = 0\n",
    "    for j in lista:\n",
    "        if j == i:\n",
    "            contador += 1\n",
    "    print(i, \"esta almacenado\", contador, \"veces\")\n",
    "    return i\n",
    "\n",
    "for i in lista:\n",
    "    if i != j:\n",
    "        j = cuenta(i)"
   ]
  },
  {
   "cell_type": "markdown",
   "metadata": {},
   "source": [
    "Escribir un programa que muestre los elementos que se repiten en dos listas de 20 elementos cada una, la lista debe ser llenada a través del teclado."
   ]
  },
  {
   "cell_type": "code",
   "execution_count": 8,
   "metadata": {},
   "outputs": [
    {
     "name": "stdout",
     "output_type": "stream",
     "text": [
      "Lista 1\n",
      "-2\n",
      "-4\n",
      "-6\n",
      "-8\n",
      "-10\n",
      "-12\n",
      "-14\n",
      "-16\n",
      "-18\n",
      "-20\n",
      "-22\n",
      "-24\n",
      "-26\n",
      "-28\n",
      "-30\n",
      "-32\n",
      "-34\n",
      "-36\n",
      "-38\n",
      "-40\n",
      "Lista 2\n",
      "-1\n",
      "-2\n",
      "-3\n",
      "-4\n",
      "-5\n",
      "-6\n",
      "-7\n",
      "-8\n",
      "-9\n",
      "-10\n",
      "-11\n",
      "-12\n",
      "-13\n",
      "-14\n",
      "-15\n",
      "-16\n",
      "-17\n",
      "-18\n",
      "-19\n",
      "-20\n",
      "Datos repetidos\n",
      "2, 4, 6, 8, 10, 12, 14, 16, 18, 20, \n",
      "\n"
     ]
    }
   ],
   "source": [
    "def guarda():\n",
    "    lista = []\n",
    "    for i in range(20):\n",
    "        lista.append((input(\"-\")))\n",
    "    return lista\n",
    "\n",
    "print(\"Lista 1\")\n",
    "lis1 = guarda()\n",
    "print(\"Lista 2\")\n",
    "lis2 = guarda()\n",
    "\n",
    "def repetidos():\n",
    "    print(\"Datos repetidos\")\n",
    "    for list in lis1:\n",
    "        if(list in lis2):\n",
    "            print(list,end=\", \")\n",
    "    print(\"\\n\")\n",
    "\n",
    "repetidos()"
   ]
  },
  {
   "cell_type": "code",
   "execution_count": null,
   "metadata": {},
   "outputs": [],
   "source": []
  }
 ],
 "metadata": {
  "kernelspec": {
   "display_name": "Python 3",
   "language": "python",
   "name": "python3"
  },
  "language_info": {
   "codemirror_mode": {
    "name": "ipython",
    "version": 3
   },
   "file_extension": ".py",
   "mimetype": "text/x-python",
   "name": "python",
   "nbconvert_exporter": "python",
   "pygments_lexer": "ipython3",
   "version": "3.8.2"
  }
 },
 "nbformat": 4,
 "nbformat_minor": 4
}
